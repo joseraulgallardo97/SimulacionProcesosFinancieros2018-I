{
 "cells": [
  {
   "cell_type": "markdown",
   "metadata": {},
   "source": [
    "# Clase 5\n",
    "\n",
    "El objetivo con esta sesión es entender las nociones básicas y metodología, para realizar una simulación de algún proceso de nuestra vida cotidiana o profesional. "
   ]
  },
  {
   "cell_type": "markdown",
   "metadata": {},
   "source": [
    "## Etapas para realizar un estudio de simulación\n",
    "\n",
    "> - *Definición del sistema*: determinar la interacción del sistema con otros sistemas, restricciones, interacción e interrelación de variables de interés y los resultados esperados.\n",
    "> - *Formulación de un modelo*: Es necesario definir todas las variables que forman parte del sistema y además definir un diagrama de flujo que describa la forma completa del modelo.\n",
    "> - *Colección de datos*: Definir los datos necesarios para el modelo. Datos pueden provenir de registros contables, órdenes de trabajo, órdenes de compra, opiniones de expertos y si no hay otro remedio por experimentación.\n",
    "> - *Validación*: En esta etapa es posible detectar deficiencias en la formulación del modelo o en los datos sumunistrados al modelo. Formas de validar un modelo son:\n",
    "    - Opinión de expertos.\n",
    "    - Exactitud con que se predicen datos hitóricos.\n",
    "    - Exactitud de la predicción del futuro.\n",
    "    - La aceptación y confianza en el modelo de la perdona que hará uso de los resultados que arroje el experimento de simulación.\n",
    "    \n",
    "> - *Experimentación*: La experimentación con el modelo se realiza después de que éste ha sido validado. La experimentación consiste en generar los datos deseados y en realizar el análisis de sensibilidad de los índices requeridos.\n",
    "> - *Interpretación*: Se interpretan los resultados que arroja la simulación y en base a esto se toma una decisión.\n",
    "> - *Documentación*: \n",
    "    - Datos que debe de tener el modelo\n",
    "    - Manual de usurario\n",
    "        "
   ]
  },
  {
   "attachments": {},
   "cell_type": "markdown",
   "metadata": {},
   "source": [
    "# Ejemplo de aplicación- Cafetería Central\n",
    "\n",
    "Premisas para la simulación:\n",
    "- Negocio de alimentos que vende bebidas y alimentos.\n",
    "- Negocio dentro del ITESO.\n",
    "- Negocio en cafetería central.\n",
    "- Tipo de clientes (hombres y mujeres).\n",
    "- Rentabilidad del 60%.\n",
    "\n",
    "## Objetivo\n",
    "Realizar una simulación estimado el tiempo medio que se tardaran los clientes en ser atendidos entre el horario de 6:30 a 1 pm. Además saber el consumo. \n",
    "**Analizar supuestos y limitantes**\n",
    "\n",
    "## Supuestos en simulación\n",
    "Clasificación de clientes: \n",
    "- Mujer  = 1 $\\longrightarrow$ aleatorio < 0.5\n",
    "- Hombre = 0 $\\longrightarrow$ aleatorio $\\geq$ 0.5.\n",
    "\n",
    "Condiciones iniciales:\n",
    "- Tiempo de simulación: 6:30 am - 1pm $\\longrightarrow$ T = 7 horas = 25200 seg.\n",
    "- Tiempo de llegada hasta ser atendido: Min=5seg, Max=30seg.\n",
    "- Tiempo que tardan los clientes en ser atendidos:\n",
    "    - Mujer: Min = 1 min= 60seg, Max = 5 min = 300 seg\n",
    "    - Hombre: Min = 40 seg, Max = 2 min= 120 seg\n",
    "- Consumo según el tipo de cliente:\n",
    "    - Mujer: Min = 30 pesos, Max = 100 pesos\n",
    "    - Hombre: Min = 20 pesos, Max = 80 pesos\n"
   ]
  },
  {
   "cell_type": "code",
   "execution_count": 4,
   "metadata": {
    "collapsed": true
   },
   "outputs": [],
   "source": [
    "# Importación de paquetes\n",
    "import numpy as np"
   ]
  },
  {
   "cell_type": "code",
   "execution_count": null,
   "metadata": {
    "collapsed": true
   },
   "outputs": [],
   "source": []
  },
  {
   "cell_type": "code",
   "execution_count": 49,
   "metadata": {},
   "outputs": [
    {
     "name": "stdout",
     "output_type": "stream",
     "text": [
      "Las personas atendidas entre 6:30 a 1pm fueron: [210, 202, 210, 208, 207]\n",
      "Los hombres atendidos fueron: [106, 107, 98, 120, 104]\n",
      "Las mujeres atendidas fueron: [104, 95, 112, 88, 103]\n",
      "Las mujeres atendidas gastaron: [6833, 6225, 7684, 5924, 6684]\n",
      "Las hombres atendidos gastaron: [5543, 5422, 4810, 6111, 5237]\n",
      "La rentabilidad obtenida por la cafería fue: [402530, 355251, 401813, 377465, 374650]\n",
      "promedio 207.4\n"
     ]
    }
   ],
   "source": [
    "d = 5     # días de simulación\n",
    "T = 25200  # tiempo de simlación\n",
    "# Tiempo de llegada hasta ser atendidos\n",
    "Tat_min = 5; Tat_max = 30\n",
    "# Tiempo de atención hombres y mujeres\n",
    "Tmujer_min = 60; Tmujer_max = 200\n",
    "Thombre_min = 40; Thombre_max = 120\n",
    "# Consumo de hombres y mujeres\n",
    "Ch_min = 20; Ch_max = 80\n",
    "Cm_min = 30; Cm_max = 100\n",
    "\n",
    "Personas   = np.random.rand(T)    # crea una lista con las posibles personas a atender \n",
    "\n",
    "P=[]\n",
    "Ghom = []\n",
    "Gmuj = []\n",
    "Rent =[]\n",
    "Haten =[]\n",
    "Maten = []\n",
    "\n",
    "i = 0   # Contador \n",
    "for j in range(d):\n",
    "    Patendidas = 0  # total de personas atendidas\n",
    "    Matendidas = 0  # Mujeres atendidas\n",
    "    Hatendidos = 0  # Hombres atendidos\n",
    "    Tatencion  = 0  # Tiempo de atención \n",
    "    Chombres   = 0  # Consumo realizado por hombres\n",
    "    Cmujeres   = 0  # Consummo realizado por mujeres\n",
    "    Rentabilidad = 0 # Rentabilidad obtenida con el total de ventas\n",
    "    while Tatencion <= T:\n",
    "        Tatencion += np.random.uniform(Tat_min,Tat_max)\n",
    "        if Personas[i]< 0.5:\n",
    "            Matendidas += 1\n",
    "            Tatencion += np.random.uniform(Tmujer_min,Tmujer_max)\n",
    "            Cmujeres += np.random.uniform(Cm_min,Cm_max)\n",
    "            Rentabilidad += .6 * Cmujeres\n",
    "        else:\n",
    "            Hatendidos += 1\n",
    "            Tatencion += np.random.uniform(Thombre_min,Thombre_max)\n",
    "            Chombres += np.random.uniform(Ch_min,Ch_max)\n",
    "            Rentabilidad += .6 * Chombres\n",
    "        i += 1    \n",
    "    Patendidas = Matendidas + Hatendidos\n",
    "    P.append(Patendidas)\n",
    "    Ghom.append(int(Chombres))\n",
    "    Gmuj.append(int(Cmujeres))\n",
    "    Rent.append(int(Rentabilidad))\n",
    "    Haten.append(Hatendidos)\n",
    "    Maten.append(Matendidas)\n",
    "print(\"Las personas atendidas entre 6:30 a 1pm fueron:\",P)\n",
    "print(\"Los hombres atendidos fueron:\",Haten)\n",
    "print(\"Las mujeres atendidas fueron:\",Maten)\n",
    "print(\"Las mujeres atendidas gastaron:\",Gmuj)\n",
    "print(\"Las hombres atendidos gastaron:\",Ghom)\n",
    "print(\"La rentabilidad obtenida por la cafería fue:\",Rent)\n",
    "print(\"promedio\",np.sum(P)/len(P))\n",
    "# print(\"Las personas atendidas entre 6:30 a 1pm fueron:\",Patendidas)\n",
    "# print(\"Los hombres atendidos fueron:\",Hatendidos)\n",
    "# print(\"Las mujeres atendidas fueron:\",Matendidas)\n",
    "# print(\"Las mujeres atendidas gastaron:\",Cmujeres)\n",
    "# print(\"Las hombres atendidos gastaron:\",Chombres)\n",
    "# print(\"La resntabilidad obtenida por la cafería fue:\",Rentabilidad)"
   ]
  },
  {
   "cell_type": "code",
   "execution_count": null,
   "metadata": {},
   "outputs": [],
   "source": []
  }
 ],
 "metadata": {
  "kernelspec": {
   "display_name": "Python 3",
   "language": "python",
   "name": "python3"
  },
  "language_info": {
   "codemirror_mode": {
    "name": "ipython",
    "version": 3
   },
   "file_extension": ".py",
   "mimetype": "text/x-python",
   "name": "python",
   "nbconvert_exporter": "python",
   "pygments_lexer": "ipython3",
   "version": "3.6.2"
  }
 },
 "nbformat": 4,
 "nbformat_minor": 2
}
