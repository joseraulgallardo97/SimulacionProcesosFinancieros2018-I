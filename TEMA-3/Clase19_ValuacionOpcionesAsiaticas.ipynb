{
 "cells": [
  {
   "cell_type": "markdown",
   "metadata": {},
   "source": [
    "# Valuación de opciones asiáticas "
   ]
  },
  {
   "attachments": {},
   "cell_type": "markdown",
   "metadata": {},
   "source": [
    "- Las opciones que tratamos la clase pasada dependen sólo del valor del precio del subyacente $S_t$, en el instante que se ejerce.\n",
    "\n",
    "- Cambios bruscos en el precio, cambian que la opción esté *in the money* a estar *out the money*.\n",
    "\n",
    "- **Posibilidad de evitar esto** $\\longrightarrow$ suscribir un contrato sobre el valor promedio del precio del subyacente. \n",
    "\n",
    "- <font color ='red'> Puede proveer protección contra fluctuaciones extremas del precio en mercados volátiles. </font>\n",
    "\n",
    "- **Nombre**: Banco Trust de Tokio ofreció este tipo de opciones\n",
    "\n",
    "### ¿Dónde se negocian?\n",
    "\n",
    "- Mercados OTC (Over the Counter / Independientes). Una explicación de esto podría ser el último punto de la lámina anterior.\n",
    "\n",
    "- Las condiciones para el cálculo matemático del promedio y otras condiciones son especificadas en el contrato. Lo que las hace un poco más “personalizables”. \n",
    "\n",
    "Existen diversos tipos de opciones asiáticas y se clasiflcan de acuerdo con lo siguiente.\n",
    "\n",
    "1. La media que se utiliza puede ser **aritmética** o geométrica.\n",
    "\n",
    "2. Media se calcula para $S_t \\longrightarrow$ \"Precio de ejercicio fijo\". Media se calcula para precio de ejercicio $\\longrightarrow$ \"Precio de ejercicio flotante\". \n",
    "\n",
    "3. Si la opción sólo se puede ejercer al final del tiempo del contrato se dice que es asiática de tipo europeo o **euroasiática**, y si puede ejercer en cualquier instante, durante la vigencia del contrato se denomina **asiática de tipo americano.**\n",
    "\n",
    "Los tipos de opciones euroasiáticas son:\n",
    "\n",
    "- Call con precio de ejercicio fijo, función de pago: $\\max\\{A-K,0\\}$.\n",
    "- Put con precio de ejercicio fijo, función de pago: $\\max\\{K-A,0\\}$.\n",
    "- Call con precio de ejercicio flotante, función de pago: $\\max\\{S-K,0\\}$.\n",
    "- Put con precio de ejercicio flotante, función de pago: $\\max\\{K-S,0\\}$.\n",
    "\n",
    "Donde $A$ es el promedio del precio del subyacente.\n",
    "\n",
    "$$\\text{Promedio aritmético} \\quad A={1\\over T} \\int_0^TS_tdt$$\n",
    "$$\\text{Promedio geométrico} \\quad A=\\exp\\Big({1\\over T} \\int_0^T Ln(S_t) dt\\Big)$$\n",
    "\n",
    "De aquí en adelante denominaremos **Asiática ** $\\longrightarrow$ Euroasiática y se analizará el call asiático con **K Fijo**.\n",
    "\n",
    "Se supondrá un solo activo con riesgo, cuyos proceso de precios $\\{S_t | t\\in [0,T]\\}$ satisface un movimiento browniano geométrico, en un mercado que satisface las suposiciones del modelo de Black y Scholes. Recordemos que bajo esta medida de probabilidad, $P^*$, denominada de riesgo neutro, bajo la cual el precio del activo, $S_t$, satisface:\n",
    "\n",
    "$$dS_t = rS_tdt+\\sigma S_tdW_t,\\quad 0\\leq t \\leq T, S_0 >0$$\n",
    "\n",
    "Para un call asiático de promedio aritmético y con precio de ejercicios fijo, está dado por\n",
    "$$\\max \\{A(T)-K,0\\} = (A(T)-K)_+$$\n",
    "\n",
    "con $A(x)={1\\over x} \\int_0^x S_u du$"
   ]
  },
  {
   "cell_type": "markdown",
   "metadata": {},
   "source": [
    "Se puede ver que el valor en el tiempo t de la opción call asiática está dado por:\n",
    "\n",
    "$$ V_t(K) = e^{-r(T-t)}E^*[(A(T)-K)_+]$$\n",
    "\n",
    "Para el caso de interés, *Valución de la opción*, donde $t_0=0$ y $t=0$, se tiene:\n",
    "\n",
    "$$\\textbf{Valor call asiático}\\longrightarrow V_0(K)=e^{-rT}E\\Bigg[ \\Big({1\\over T} \\int_0^T S_u du -K\\Big)_+\\Bigg]$$ "
   ]
  },
  {
   "cell_type": "markdown",
   "metadata": {},
   "source": [
    "## Usando Monte Carlo\n",
    "\n",
    "Para usar este método es necesario que se calcule el promedio $S_u$ en el intervalo $[0,T]$. Para esto se debe aproximar el valor de la integral por los siguiente dos métodos.\n",
    "\n",
    "Para los dos esquemas se dividirá el intervalo $[0,T]$ en N subintervalos de igual longitud, $h={T\\over N}$, esto determina los tiempos $t_0,t_1,\\cdots,t_{N-1},t_N $, en donde $t_i=ih$ para $i=0,1,\\cdots,N$\n",
    "\n",
    "### Sumas de Riemann\n",
    "\n",
    "$$\\int_0^T S_u du \\approx h \\sum_{i=0}^{n-1} S_{t_i}$$\n",
    "\n",
    "Reemplanzando esta aprox\n"
   ]
  },
  {
   "cell_type": "markdown",
   "metadata": {},
   "source": [
    "<script>\n",
    "  $(document).ready(function(){\n",
    "    $('div.prompt').hide();\n",
    "    $('div.back-to-top').hide();\n",
    "    $('nav#menubar').hide();\n",
    "    $('.breadcrumb').hide();\n",
    "    $('.hidden-print').hide();\n",
    "  });\n",
    "</script>\n",
    "\n",
    "<footer id=\"attribution\" style=\"float:right; color:#808080; background:#fff;\">\n",
    "Created with Jupyter by Oscar David Jaramillo Z.\n",
    "</footer>"
   ]
  }
 ],
 "metadata": {
  "kernelspec": {
   "display_name": "Python 3",
   "language": "python",
   "name": "python3"
  },
  "language_info": {
   "codemirror_mode": {
    "name": "ipython",
    "version": 3
   },
   "file_extension": ".py",
   "mimetype": "text/x-python",
   "name": "python",
   "nbconvert_exporter": "python",
   "pygments_lexer": "ipython3",
   "version": "3.6.2"
  }
 },
 "nbformat": 4,
 "nbformat_minor": 2
}
