{
 "cells": [
  {
   "cell_type": "markdown",
   "metadata": {},
   "source": [
    "# Valuación de opciones asiáticas "
   ]
  },
  {
   "cell_type": "markdown",
   "metadata": {},
   "source": [
    "- Las opciones que tratamos la clase pasada dependen sólo del valor del precio del subyacente $S_t$, en el instante que se ejerce.\n",
    "\n",
    "- Cambios bruscos en el precio, cambian que la opción esté *in the money* a estar *out the money*.\n",
    "\n",
    "- **Posibilidad de evitar esto** $\\longrightarrow$ suscribir un contrato sobre el valor promedio del precio del subyacente. \n",
    "\n",
    "- <font color ='red'> Puede proveer protección contra fluctuaciones extremas del precio en mercados volátiles. </font>\n",
    "\n",
    "- **Nombre**: Banco Trust de Tokio ofreció este tipo de opciones\n",
    "\n",
    "### ¿Dónde se negocian?\n",
    "\n",
    "- Mercados OTC (Over the Counter / Independientes). Una explicación de esto podría ser el último punto de la lámina anterior.\n",
    "\n",
    "- Las condiciones para el cálculo matemático del promedio y otras condiciones son especificadas en el contrato. Lo que las hace un poco más “personalizables”. \n",
    "\n",
    "Existen diversos tipos de opciones asiáticas y se clasiflcan de acuerdo con lo siguiente.\n",
    "\n",
    "1. La media que se utiliza puede ser **aritmética** o geométrica.\n",
    "\n",
    "2. Media se calcula para $S_t \\longrightarrow$ \"Precio de ejercicio fijo\". Media se calcula para precio de ejercicio $\\longrightarrow$ \"Precio de ejercicio flotante\". \n",
    "\n",
    "3. Si la opción sólo se puede ejercer al final del tiempo del contrato se dice que es asiática de tipo europeo o **euroasiática**, y si puede ejercer en cualquier instante, durante la vigencia del contrato se denomina **asiática de tipo americano.**\n",
    "\n",
    "Los tipos de opciones euroasiáticas son:\n",
    "\n",
    "- Call con precio de ejercicio fijo, función de pago: $\\max\\{A-K,0\\}$.\n",
    "- Put con precio de ejercicio fijo, función de pago: $\\max\\{K-A,0\\}$.\n",
    "- Call con precio de ejercicio flotante, función de pago: $\\max\\{S-K,0\\}$.\n",
    "- Put con precio de ejercicio flotante, función de pago: $\\max\\{K-S,0\\}$.\n",
    "\n",
    "Donde $A$ es el promedio del precio del subyacente.\n",
    "\n",
    "$$\\text{Promedio aritmético} \\quad A={1\\over T} \\int_0^TS_tdt$$\n",
    "$$\\text{Promedio geométrico} \\quad A=\\exp\\Big({1\\over T} \\int_0^T Ln(S_t) dt\\Big)$$\n",
    "\n",
    "De aquí en adelante denominaremos **Asiática ** $\\longrightarrow$ Euroasiática y se analizará el call asiático con **K Fijo**.\n",
    "\n",
    "Se supondrá un solo activo con riesgo, cuyos proceso de precios $\\{S_t | t\\in [0,T]\\}$ satisface un movimiento browniano geométrico, en un mercado que satisface las suposiciones del modelo de Black y Scholes. Recordemos que bajo esta medida de probabilidad, $P^*$, denominada de riesgo neutro, bajo la cual el precio del activo, $S_t$, satisface:\n",
    "\n",
    "$$dS_t = rS_tdt+\\sigma S_tdW_t,\\quad 0\\leq t \\leq T, S_0 >0$$\n",
    "\n",
    "Para un call asiático de promedio aritmético y con precio de ejercicios fijo, está dado por\n",
    "$$\\max \\{A(T)-K,0\\} = (A(T)-K)_+$$\n",
    "\n",
    "con $A(x)={1\\over x} \\int_0^x S_u du$"
   ]
  },
  {
   "cell_type": "markdown",
   "metadata": {},
   "source": [
    "Se puede ver que el valor en el tiempo t de la opción call asiática está dado por:\n",
    "\n",
    "$$ V_t(K) = e^{-r(T-t)}E^*[(A(T)-K)_+]$$\n",
    "\n",
    "Para el caso de interés, *Valución de la opción*, donde $t_0=0$ y $t=0$, se tiene:\n",
    "\n",
    "$$\\textbf{Valor call asiático}\\longrightarrow V_0(K)=e^{-rT}E\\Bigg[ \\Big({1\\over T} \\int_0^T S_u du -K\\Big)_+\\Bigg]$$ "
   ]
  },
  {
   "cell_type": "markdown",
   "metadata": {},
   "source": [
    "## Usando Monte Carlo\n",
    "\n",
    "Para usar este método es necesario que se calcule el promedio $S_u$ en el intervalo $[0,T]$. Para esto se debe aproximar el valor de la integral por los siguiente dos métodos.\n",
    "\n",
    "Para los dos esquemas se dividirá el intervalo $[0,T]$ en N subintervalos de igual longitud, $h={T\\over N}$, esto determina los tiempos $t_0,t_1,\\cdots,t_{N-1},t_N $, en donde $t_i=ih$ para $i=0,1,\\cdots,N$\n",
    "\n",
    "### Sumas de Riemann\n",
    "\n",
    "$$\\int_0^T S_u du \\approx h \\sum_{i=0}^{n-1} S_{t_i}$$\n",
    "\n",
    "Reemplanzando esta aproximación en el valor del call asiático obtenemos la siguiente aproximación:\n",
    "\n",
    "$$\\hat V_0^{(1)}= {e^{-rT} \\over M} \\sum_{j=1}^{M} \\Bigg({1\\over N} \\sum_{i=0}^{N-1} S_{t_i}-K \\Bigg)_+$$\n"
   ]
  },
  {
   "attachments": {
    "imagen.png": {
     "image/png": "[encoded data removed]"
    }
   },
   "cell_type": "markdown",
   "metadata": {},
   "source": [
    "## Mejorando la aproximación de las sumas de Riemann (esquema del trapecio)\n",
    "\n",
    "![imagen.png](attachment:imagen.png)"
   ]
  },
  {
   "cell_type": "markdown",
   "metadata": {},
   "source": [
    "Desarrollando la exponencial en serie de taylor y suponiendo que $h$ es pequeña, sólo se conservan los términos de orden uno, se tiene la siguiente aproximación:\n",
    "$$\\int_0^T S_u du \\approx {h \\over 2}\\sum_{i=0}^{N-1}S_{t_i}(2+rh+(W_{t_{i+1}}-W_{t_i})\\sigma)$$\n",
    "\n",
    "Reemplazando esta aproximación en el precio del call, se tiene la siguiente estimación:\n",
    "$$\\hat V_0^{(2)}= {e^{-rT} \\over M} \\sum_{j=1}^{M} \\Bigg({h\\over 2T} \\sum_{i=0}^{N-1} S_{t_i}(2+rh+(W_{t_{i+1}}-W_{t_i})\\sigma)-K \\Bigg)_+$$"
   ]
  },
  {
   "cell_type": "markdown",
   "metadata": {},
   "source": [
    "## Ejemplo\n",
    "\n",
    "Como caso de prueba se seleccionó el de un call asiático con precio inicial, $S_0 = 100$, precio de ejercicio $K = 100$, tasa libre de riesgo $r = 0.10$, volatilidad $\\sigma = 0.20$ y $T = 1$ año. Cuyo precio es $\\approx 7.04$."
   ]
  },
  {
   "cell_type": "code",
   "execution_count": 2,
   "metadata": {},
   "outputs": [],
   "source": [
    "#importar los paquetes que se van a usar\n",
    "import pandas as pd\n",
    "import pandas_datareader.data as web\n",
    "import numpy as np\n",
    "import datetime\n",
    "import matplotlib.pyplot as plt\n",
    "import scipy.stats as st\n",
    "import seaborn as sns\n",
    "%matplotlib inline\n",
    "#algunas opciones para Pandas\n",
    "pd.set_option('display.notebook_repr_html', True)\n",
    "pd.set_option('display.max_columns', 6)\n",
    "pd.set_option('display.max_rows', 10)\n",
    "pd.set_option('display.width', 78)\n",
    "pd.set_option('precision', 3)"
   ]
  },
  {
   "cell_type": "code",
   "execution_count": 36,
   "metadata": {},
   "outputs": [],
   "source": [
    "def BSprices(mu,sigma,S0,NbTraj,NbStep):\n",
    "    T = 1\n",
    "    nu = mu-(sigma**2)/2\n",
    "    \n",
    "    DeltaT = T/NbStep\n",
    "    SqDeltaT = np.sqrt(DeltaT)\n",
    "    \n",
    "    #for i in range(NbStep):\n",
    "    DeltaW = SqDeltaT*np.random.randn(NbTraj,NbStep-1)\n",
    "    increments = nu*DeltaT + sigma*DeltaW\n",
    "    concat = np.concatenate((np.log(S0)*np.ones([NbTraj,1]),increments),axis=1)\n",
    "    LogSt = np.cumsum(concat,axis=1)\n",
    "    St = np.exp(LogSt)\n",
    "    t = np.arange(0,1,DeltaT)\n",
    "\n",
    "    return St.T,t\n",
    "\n",
    "def calc_daily_ret(closes):\n",
    "    return np.log(closes/closes.shift(1)).iloc[1:]"
   ]
  },
  {
   "cell_type": "code",
   "execution_count": 56,
   "metadata": {
    "scrolled": true
   },
   "outputs": [
    {
     "data": {
      "image/png": "[encoded data removed]",
      "text/plain": [
       "<matplotlib.figure.Figure at 0x25d30901dd8>"
      ]
     },
     "metadata": {},
     "output_type": "display_data"
    }
   ],
   "source": [
    "NbTraj = 2\n",
    "NbStep = 100\n",
    "S0 = 100\n",
    "r = 0.10\n",
    "sigma = 0.2\n",
    "K = 100\n",
    "T = 1\n",
    "\n",
    "# Resolvemos la ecuación de black scholes para obtener los precios\n",
    "St,t = BSprices(r,sigma,S0,NbTraj,NbStep)\n",
    "t = t*NbStep\n",
    "plt.plot(t,St,label='precios')\n",
    "\n",
    "prices = pd.DataFrame(St,index=t)\n",
    "\n",
    "# Obtenemos los precios promedios en todo el tiempo\n",
    "Average_t = prices.expanding().mean()\n",
    "plt.plot(t,Average_t,label='Promedio de precios')\n",
    "plt.legend()\n",
    "plt.show()#"
   ]
  },
  {
   "cell_type": "markdown",
   "metadata": {},
   "source": [
    "### Método sumas de Riemann"
   ]
  },
  {
   "cell_type": "code",
   "execution_count": 57,
   "metadata": {},
   "outputs": [
    {
     "name": "stdout",
     "output_type": "stream",
     "text": [
      "Prima    13.457\n",
      "Name: 99.0, dtype: float64\n",
      "(-396.23620388116825, 423.14980546659177)\n",
      "(-49.739373874333872, 76.652975459757343)\n"
     ]
    },
    {
     "data": {
      "image/png": "[encoded data removed]",
      "text/plain": [
       "<matplotlib.figure.Figure at 0x25d3095ce10>"
      ]
     },
     "metadata": {},
     "output_type": "display_data"
    }
   ],
   "source": [
    "#### Sumas de Riemann\n",
    "strike = pd.DataFrame(K*np.ones([NbStep,NbTraj]), index=t)\n",
    "call = pd.DataFrame({'Prima':np.exp(-r*T) \\\n",
    "             *np.fmax(Average_t-strike,np.zeros([NbStep,NbTraj])).mean(axis=1)}, index=t)\n",
    "# .mean(axis=1) realiza el promedio entre las filas de np.fmax()\n",
    "call.plot()\n",
    "print(call.iloc[-1])\n",
    "\n",
    "# intervalos de confianza\n",
    "confianza = 0.95\n",
    "sigma_est = prices.iloc[-1].sem()\n",
    "mean_est = call.iloc[-1].Prima\n",
    "i1 = st.t.interval(confianza,NbTraj-1, loc=mean_est, scale=sigma_est)\n",
    "i2 = st.norm.interval(confianza, loc=mean_est, scale=sigma_est)\n",
    "print(i1)\n",
    "print(i2)\n"
   ]
  },
  {
   "cell_type": "markdown",
   "metadata": {},
   "source": [
    "Ahora hagamos pruebas variando la cantidad de trayectorias `NbTraj` y la cantidad de números de puntos   `NbStep` para obtener el "
   ]
  },
  {
   "cell_type": "code",
   "execution_count": 60,
   "metadata": {},
   "outputs": [
    {
     "data": {
      "text/html": [
       "<div>\n",
       "<table border=\"1\" class=\"dataframe\">\n",
       "  <thead>\n",
       "    <tr style=\"text-align: right;\">\n",
       "      <th></th>\n",
       "      <th>NbStep = 10</th>\n",
       "      <th>NbStep = 50</th>\n",
       "      <th>NbStep = 100</th>\n",
       "      <th>...</th>\n",
       "      <th>int 3</th>\n",
       "      <th>int 4</th>\n",
       "      <th>int 5</th>\n",
       "    </tr>\n",
       "  </thead>\n",
       "  <tbody>\n",
       "    <tr>\n",
       "      <th>Nbtray = 1000</th>\n",
       "      <td>6.93</td>\n",
       "      <td>7.27</td>\n",
       "      <td>7.1</td>\n",
       "      <td>...</td>\n",
       "      <td>8.68</td>\n",
       "      <td>5.75</td>\n",
       "      <td>8.46</td>\n",
       "    </tr>\n",
       "    <tr>\n",
       "      <th>Nbtray = 5000</th>\n",
       "      <td>6.47</td>\n",
       "      <td>6.71</td>\n",
       "      <td>7.06</td>\n",
       "      <td>...</td>\n",
       "      <td>7.31</td>\n",
       "      <td>6.44</td>\n",
       "      <td>7.67</td>\n",
       "    </tr>\n",
       "    <tr>\n",
       "      <th>Nbtray = 10000</th>\n",
       "      <td>6.48</td>\n",
       "      <td>6.94</td>\n",
       "      <td>6.91</td>\n",
       "      <td>...</td>\n",
       "      <td>7.38</td>\n",
       "      <td>6.47</td>\n",
       "      <td>7.35</td>\n",
       "    </tr>\n",
       "  </tbody>\n",
       "</table>\n",
       "<p>3 rows × 9 columns</p>\n",
       "</div>"
      ],
      "text/plain": [
       "               NbStep = 10 NbStep = 50 NbStep = 100  ...  int 3 int 4 int 5\n",
       "Nbtray = 1000         6.93        7.27          7.1  ...   8.68  5.75  8.46\n",
       "Nbtray = 5000         6.47        6.71         7.06  ...   7.31  6.44  7.67\n",
       "Nbtray = 10000        6.48        6.94         6.91  ...   7.38  6.47  7.35\n",
       "\n",
       "[3 rows x 9 columns]"
      ]
     },
     "execution_count": 60,
     "metadata": {},
     "output_type": "execute_result"
    }
   ],
   "source": [
    "NbTraj = [1000,5000,10000]\n",
    "NbStep = [10,50,100]\n",
    "\n",
    "S0 = 100     # Precio inicial\n",
    "r = 0.10     # Tasa libre de riesgo \n",
    "sigma = 0.2  # volatilidad\n",
    "K = 100      # Strike price\n",
    "T = 1        # Tiempo de cierre - años\n",
    "\n",
    "Call = np.zeros([len(NbTraj),len(NbStep)])\n",
    "intervalos = []#np.zeros([len(NbTraj),len(NbStep)])\n",
    "i = 0    # controla las filas\n",
    "j = 0    # controla las columnas\n",
    "\n",
    "for tray in NbTraj:\n",
    "    j = 0\n",
    "    for nescen in NbStep:\n",
    "        St,t = BSprices(r,sigma,S0,tray,nescen)\n",
    "        prices = pd.DataFrame(St,index=t)\n",
    "        Average_t = prices.expanding().mean()\n",
    "        strike = pd.DataFrame(K*np.ones([nescen,tray]), index=t)\n",
    "        call = pd.DataFrame({'Prima':np.exp(-r*T) \\\n",
    "             *np.fmax(Average_t-strike,np.zeros([nescen,tray])).mean(axis=1)}, index=t)\n",
    "        Call[i,j]= call.iloc[-1]\n",
    "        # intervalos de confianza\n",
    "        confianza = 0.95\n",
    "        sigma_est = prices.iloc[-1].sem()\n",
    "        mean_est = call.iloc[-1].Prima\n",
    "#        i1 = st.t.interval(confianza,nescen-1, loc=mean_est, scale=sigma_est)\n",
    "        i2 = st.norm.interval(confianza, loc=mean_est, scale=sigma_est)\n",
    "        intervalos.append(np.asarray(i2))\n",
    "        j+=1\n",
    "    i+=1\n",
    "\n",
    "intervalos = np.reshape(np.asarray(intervalos),[3,6])\n",
    "filas = ['Nbtray = %i' %i for i in NbTraj]\n",
    "col = ['NbStep = %i' %i for i in NbStep]+['int %i' %j for j in range(6)]\n",
    "df = pd.DataFrame(index=filas,columns=col)\n",
    "df.loc[0:4,0:3] = Call\n",
    "df.loc[0:,3:] = intervalos\n",
    "df"
   ]
  },
  {
   "cell_type": "code",
   "execution_count": null,
   "metadata": {},
   "outputs": [],
   "source": []
  },
  {
   "cell_type": "code",
   "execution_count": null,
   "metadata": {},
   "outputs": [],
   "source": []
  },
  {
   "cell_type": "markdown",
   "metadata": {},
   "source": [
    "<script>\n",
    "  $(document).ready(function(){\n",
    "    $('div.prompt').hide();\n",
    "    $('div.back-to-top').hide();\n",
    "    $('nav#menubar').hide();\n",
    "    $('.breadcrumb').hide();\n",
    "    $('.hidden-print').hide();\n",
    "  });\n",
    "</script>\n",
    "\n",
    "<footer id=\"attribution\" style=\"float:right; color:#808080; background:#fff;\">\n",
    "Created with Jupyter by Oscar David Jaramillo Z.\n",
    "</footer>"
   ]
  }
 ],
 "metadata": {
  "kernelspec": {
   "display_name": "Python 3",
   "language": "python",
   "name": "python3"
  },
  "language_info": {
   "codemirror_mode": {
    "name": "ipython",
    "version": 3
   },
   "file_extension": ".py",
   "mimetype": "text/x-python",
   "name": "python",
   "nbconvert_exporter": "python",
   "pygments_lexer": "ipython3",
   "version": "3.6.5"
  }
 },
 "nbformat": 4,
 "nbformat_minor": 2
}
